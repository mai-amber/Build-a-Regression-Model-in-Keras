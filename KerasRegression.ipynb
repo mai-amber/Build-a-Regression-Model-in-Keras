{
 "cells": [
  {
   "cell_type": "markdown",
   "metadata": {},
   "source": [
    "<h1>Build a Regression Model in Keras<h1>\n",
    "<h2>Part A<h2>"
   ]
  },
  {
   "cell_type": "markdown",
   "metadata": {},
   "source": [
    "<img src='https://miro.medium.com/max/3000/1*m2gDBT_nc-iE7R4AM3sHBQ.jpeg'/>"
   ]
  },
  {
   "cell_type": "markdown",
   "metadata": {},
   "source": [
    "First we import the necessary libraries:"
   ]
  },
  {
   "cell_type": "code",
   "execution_count": 1,
   "metadata": {},
   "outputs": [],
   "source": [
    "import keras\n",
    "from keras.models import Sequential\n",
    "from keras.layers import Dense\n",
    "from keras.utils import to_categorical\n",
    "from sklearn.metrics import mean_squared_error\n",
    "from sklearn.model_selection import train_test_split\n",
    "import pandas as pd\n",
    "import numpy as np"
   ]
  },
  {
   "cell_type": "markdown",
   "metadata": {},
   "source": [
    "Then we read the data:"
   ]
  },
  {
   "cell_type": "code",
   "execution_count": 2,
   "metadata": {},
   "outputs": [],
   "source": [
    "concrete_data = pd.read_csv('concrete_data.csv')"
   ]
  },
  {
   "cell_type": "markdown",
   "metadata": {},
   "source": [
    "Next, the data is split into training and testing"
   ]
  },
  {
   "cell_type": "code",
   "execution_count": 3,
   "metadata": {},
   "outputs": [],
   "source": [
    "concrete_data_columns = concrete_data.columns\n",
    "predictors = concrete_data[concrete_data_columns[concrete_data_columns != 'Strength']] #Will be used for training\n",
    "target = concrete_data['Strength']#Will be used for testing\n",
    "n_cols = predictors.shape[1]"
   ]
  },
  {
   "cell_type": "markdown",
   "metadata": {},
   "source": [
    "Next, we build the neural network"
   ]
  },
  {
   "cell_type": "code",
   "execution_count": 4,
   "metadata": {},
   "outputs": [],
   "source": [
    "def regression_model():\n",
    "    model = Sequential()\n",
    "    model.add(Dense(10, activation='relu', input_shape=(n_cols,)))\n",
    "    model.add(Dense(1))\n",
    "    model.compile(optimizer='adam', loss='mean_squared_error')\n",
    "    return model"
   ]
  },
  {
   "cell_type": "markdown",
   "metadata": {},
   "source": [
    "This step splits the data randomly with 70% for training and 30% for testing"
   ]
  },
  {
   "cell_type": "code",
   "execution_count": 5,
   "metadata": {},
   "outputs": [],
   "source": [
    "X_train, X_test, y_train, y_test = train_test_split(predictors, target, test_size=0.3)"
   ]
  },
  {
   "cell_type": "markdown",
   "metadata": {},
   "source": [
    "This step builds the model"
   ]
  },
  {
   "cell_type": "code",
   "execution_count": 6,
   "metadata": {},
   "outputs": [],
   "source": [
    "model = regression_model()"
   ]
  },
  {
   "cell_type": "markdown",
   "metadata": {},
   "source": [
    "This step trains the model with 50 epochs"
   ]
  },
  {
   "cell_type": "code",
   "execution_count": 7,
   "metadata": {},
   "outputs": [
    {
     "name": "stdout",
     "output_type": "stream",
     "text": [
      "Epoch 1/50\n",
      "23/23 - 0s - loss: 8131.9424\n",
      "Epoch 2/50\n",
      "23/23 - 0s - loss: 3865.6401\n",
      "Epoch 3/50\n",
      "23/23 - 0s - loss: 2971.7263\n",
      "Epoch 4/50\n",
      "23/23 - 0s - loss: 2417.5356\n",
      "Epoch 5/50\n",
      "23/23 - 0s - loss: 1978.7053\n",
      "Epoch 6/50\n",
      "23/23 - 0s - loss: 1610.9376\n",
      "Epoch 7/50\n",
      "23/23 - 0s - loss: 1301.1860\n",
      "Epoch 8/50\n",
      "23/23 - 0s - loss: 1082.6659\n",
      "Epoch 9/50\n",
      "23/23 - 0s - loss: 871.4648\n",
      "Epoch 10/50\n",
      "23/23 - 0s - loss: 725.5961\n",
      "Epoch 11/50\n",
      "23/23 - 0s - loss: 610.8724\n",
      "Epoch 12/50\n",
      "23/23 - 0s - loss: 528.9430\n",
      "Epoch 13/50\n",
      "23/23 - 0s - loss: 465.0759\n",
      "Epoch 14/50\n",
      "23/23 - 0s - loss: 418.5569\n",
      "Epoch 15/50\n",
      "23/23 - 0s - loss: 392.3086\n",
      "Epoch 16/50\n",
      "23/23 - 0s - loss: 357.8503\n",
      "Epoch 17/50\n",
      "23/23 - 0s - loss: 337.8203\n",
      "Epoch 18/50\n",
      "23/23 - 0s - loss: 323.1554\n",
      "Epoch 19/50\n",
      "23/23 - 0s - loss: 308.6244\n",
      "Epoch 20/50\n",
      "23/23 - 0s - loss: 298.2514\n",
      "Epoch 21/50\n",
      "23/23 - 0s - loss: 289.6436\n",
      "Epoch 22/50\n",
      "23/23 - 0s - loss: 279.1351\n",
      "Epoch 23/50\n",
      "23/23 - 0s - loss: 272.4621\n",
      "Epoch 24/50\n",
      "23/23 - 0s - loss: 266.2121\n",
      "Epoch 25/50\n",
      "23/23 - 0s - loss: 262.0094\n",
      "Epoch 26/50\n",
      "23/23 - 0s - loss: 254.5602\n",
      "Epoch 27/50\n",
      "23/23 - 0s - loss: 249.1454\n",
      "Epoch 28/50\n",
      "23/23 - 0s - loss: 245.6010\n",
      "Epoch 29/50\n",
      "23/23 - 0s - loss: 242.0655\n",
      "Epoch 30/50\n",
      "23/23 - 0s - loss: 234.5857\n",
      "Epoch 31/50\n",
      "23/23 - 0s - loss: 231.3281\n",
      "Epoch 32/50\n",
      "23/23 - 0s - loss: 229.3435\n",
      "Epoch 33/50\n",
      "23/23 - 0s - loss: 223.3763\n",
      "Epoch 34/50\n",
      "23/23 - 0s - loss: 218.8318\n",
      "Epoch 35/50\n",
      "23/23 - 0s - loss: 216.6297\n",
      "Epoch 36/50\n",
      "23/23 - 0s - loss: 211.9494\n",
      "Epoch 37/50\n",
      "23/23 - 0s - loss: 209.9418\n",
      "Epoch 38/50\n",
      "23/23 - 0s - loss: 206.3704\n",
      "Epoch 39/50\n",
      "23/23 - 0s - loss: 202.6632\n",
      "Epoch 40/50\n",
      "23/23 - 0s - loss: 204.6102\n",
      "Epoch 41/50\n",
      "23/23 - 0s - loss: 195.9716\n",
      "Epoch 42/50\n",
      "23/23 - 0s - loss: 197.3838\n",
      "Epoch 43/50\n",
      "23/23 - 0s - loss: 197.8737\n",
      "Epoch 44/50\n",
      "23/23 - 0s - loss: 188.6150\n",
      "Epoch 45/50\n",
      "23/23 - 0s - loss: 184.7921\n",
      "Epoch 46/50\n",
      "23/23 - 0s - loss: 183.3417\n",
      "Epoch 47/50\n",
      "23/23 - 0s - loss: 180.4354\n",
      "Epoch 48/50\n",
      "23/23 - 0s - loss: 176.9081\n",
      "Epoch 49/50\n",
      "23/23 - 0s - loss: 175.4697\n",
      "Epoch 50/50\n",
      "23/23 - 0s - loss: 174.5771\n"
     ]
    },
    {
     "data": {
      "text/plain": [
       "<tensorflow.python.keras.callbacks.History at 0x7fbe89c2dc40>"
      ]
     },
     "execution_count": 7,
     "metadata": {},
     "output_type": "execute_result"
    }
   ],
   "source": [
    "epochs = 50\n",
    "model.fit(X_train, y_train, epochs=epochs, verbose=2)"
   ]
  },
  {
   "cell_type": "markdown",
   "metadata": {},
   "source": [
    "This will evaluate the model"
   ]
  },
  {
   "cell_type": "code",
   "execution_count": 8,
   "metadata": {},
   "outputs": [
    {
     "name": "stdout",
     "output_type": "stream",
     "text": [
      "10/10 [==============================] - 0s 586us/step - loss: 172.7290\n"
     ]
    },
    {
     "data": {
      "text/plain": [
       "172.7290496826172"
      ]
     },
     "execution_count": 8,
     "metadata": {},
     "output_type": "execute_result"
    }
   ],
   "source": [
    "loss_val = model.evaluate(X_test, y_test)\n",
    "y_pred = model.predict(X_test)\n",
    "loss_val"
   ]
  },
  {
   "cell_type": "markdown",
   "metadata": {},
   "source": [
    "This step will evaluate the mean squared error"
   ]
  },
  {
   "cell_type": "code",
   "execution_count": 9,
   "metadata": {},
   "outputs": [
    {
     "name": "stdout",
     "output_type": "stream",
     "text": [
      "172.72900277269858 0.0\n"
     ]
    }
   ],
   "source": [
    "mean_square_error = mean_squared_error(y_test, y_pred)\n",
    "mean = np.mean(mean_square_error)\n",
    "standard_deviation = np.std(mean_square_error)\n",
    "print(mean, standard_deviation)"
   ]
  },
  {
   "cell_type": "markdown",
   "metadata": {},
   "source": [
    "Finally, we create a list of 50 mean squared errors and then report the mean and the standard deviation of the mean squared errors."
   ]
  },
  {
   "cell_type": "code",
   "execution_count": 10,
   "metadata": {},
   "outputs": [
    {
     "name": "stdout",
     "output_type": "stream",
     "text": [
      "MSE 1: 120.42951965332031\n",
      "MSE 2: 111.16646575927734\n",
      "MSE 3: 108.75860595703125\n",
      "MSE 4: 112.77386474609375\n",
      "MSE 5: 89.58879852294922\n",
      "MSE 6: 81.89401245117188\n",
      "MSE 7: 74.34770202636719\n",
      "MSE 8: 76.14877319335938\n",
      "MSE 9: 77.79730224609375\n",
      "MSE 10: 77.00150299072266\n",
      "MSE 11: 78.2320327758789\n",
      "MSE 12: 58.60994338989258\n",
      "MSE 13: 52.619205474853516\n",
      "MSE 14: 47.420318603515625\n",
      "MSE 15: 61.16181182861328\n",
      "MSE 16: 53.02919006347656\n",
      "MSE 17: 56.47630310058594\n",
      "MSE 18: 61.37548828125\n",
      "MSE 19: 51.49680709838867\n",
      "MSE 20: 56.140220642089844\n",
      "MSE 21: 44.45475387573242\n",
      "MSE 22: 50.33415985107422\n",
      "MSE 23: 60.01755905151367\n",
      "MSE 24: 55.94320297241211\n",
      "MSE 25: 51.89358139038086\n",
      "MSE 26: 58.55831527709961\n",
      "MSE 27: 51.66209411621094\n",
      "MSE 28: 48.43010330200195\n",
      "MSE 29: 43.3168830871582\n",
      "MSE 30: 42.20589828491211\n",
      "MSE 31: 54.851871490478516\n",
      "MSE 32: 50.08193588256836\n",
      "MSE 33: 45.26518249511719\n",
      "MSE 34: 54.25502014160156\n",
      "MSE 35: 57.221927642822266\n",
      "MSE 36: 50.74275207519531\n",
      "MSE 37: 47.2181282043457\n",
      "MSE 38: 54.44411087036133\n",
      "MSE 39: 52.39494323730469\n",
      "MSE 40: 45.259830474853516\n",
      "MSE 41: 55.304744720458984\n",
      "MSE 42: 48.19063186645508\n",
      "MSE 43: 47.874107360839844\n",
      "MSE 44: 56.13300704956055\n",
      "MSE 45: 45.255672454833984\n",
      "MSE 46: 57.32625961303711\n",
      "MSE 47: 56.72321701049805\n",
      "MSE 48: 46.24225616455078\n",
      "MSE 49: 56.51991653442383\n",
      "MSE 50: 58.73649978637695\n",
      "Mean: 61.06652894937431\n",
      "Standard Deviation: 18.664574125077664\n"
     ]
    }
   ],
   "source": [
    "total_mean_squared_errors = 50\n",
    "epochs = 50\n",
    "mean_squared_errors = []\n",
    "for i in range(0, total_mean_squared_errors):\n",
    "    X_train, X_test, y_train, y_test = train_test_split(predictors, target, test_size=0.3)\n",
    "    model.fit(X_train, y_train, epochs=epochs, verbose=0)\n",
    "    MSE = model.evaluate(X_test, y_test, verbose=0)\n",
    "    print(\"MSE {}: {}\".format(i+1, MSE))\n",
    "    y_pred = model.predict(X_test)\n",
    "    mean_square_error = mean_squared_error(y_test, y_pred)\n",
    "    mean_squared_errors.append(mean_square_error)\n",
    "\n",
    "mean_squared_errors = np.array(mean_squared_errors)\n",
    "mean = np.mean(mean_squared_errors)\n",
    "standard_deviation = np.std(mean_squared_errors)\n",
    "\n",
    "print(\"Mean: {}\".format(mean))\n",
    "print(\"Standard Deviation: {}\".format(standard_deviation))"
   ]
  },
  {
   "cell_type": "markdown",
   "metadata": {},
   "source": [
    "<h2>Part B<h2>"
   ]
  },
  {
   "cell_type": "markdown",
   "metadata": {},
   "source": [
    "Now we normalize the data"
   ]
  },
  {
   "cell_type": "code",
   "execution_count": 30,
   "metadata": {},
   "outputs": [],
   "source": [
    "concrete_data_columns = concrete_data.columns\n",
    "predictors_norm = (predictors - predictors.mean()) / predictors.std()\n",
    "n_cols = predictors_norm.shape[1]"
   ]
  },
  {
   "cell_type": "code",
   "execution_count": 31,
   "metadata": {},
   "outputs": [],
   "source": [
    "def regression_model():\n",
    "    model = Sequential()\n",
    "    model.add(Dense(10, activation='relu', input_shape=(n_cols,)))\n",
    "    model.add(Dense(1))\n",
    "    model.compile(optimizer='adam', loss='mean_squared_error')\n",
    "    return model"
   ]
  },
  {
   "cell_type": "code",
   "execution_count": 32,
   "metadata": {},
   "outputs": [],
   "source": [
    "X_train, X_test, y_train, y_test = train_test_split(predictors_norm, target, test_size=0.3)"
   ]
  },
  {
   "cell_type": "code",
   "execution_count": 33,
   "metadata": {},
   "outputs": [],
   "source": [
    "model = regression_model()"
   ]
  },
  {
   "cell_type": "code",
   "execution_count": 34,
   "metadata": {},
   "outputs": [
    {
     "name": "stdout",
     "output_type": "stream",
     "text": [
      "Epoch 1/50\n",
      "23/23 - 0s - loss: 1542.4739\n",
      "Epoch 2/50\n",
      "23/23 - 0s - loss: 1522.2261\n",
      "Epoch 3/50\n",
      "23/23 - 0s - loss: 1502.4236\n",
      "Epoch 4/50\n",
      "23/23 - 0s - loss: 1483.1332\n",
      "Epoch 5/50\n",
      "23/23 - 0s - loss: 1464.2701\n",
      "Epoch 6/50\n",
      "23/23 - 0s - loss: 1445.0144\n",
      "Epoch 7/50\n",
      "23/23 - 0s - loss: 1426.1440\n",
      "Epoch 8/50\n",
      "23/23 - 0s - loss: 1407.0022\n",
      "Epoch 9/50\n",
      "23/23 - 0s - loss: 1387.6561\n",
      "Epoch 10/50\n",
      "23/23 - 0s - loss: 1368.0238\n",
      "Epoch 11/50\n",
      "23/23 - 0s - loss: 1348.1266\n",
      "Epoch 12/50\n",
      "23/23 - 0s - loss: 1327.8069\n",
      "Epoch 13/50\n",
      "23/23 - 0s - loss: 1307.1289\n",
      "Epoch 14/50\n",
      "23/23 - 0s - loss: 1286.2332\n",
      "Epoch 15/50\n",
      "23/23 - 0s - loss: 1264.8619\n",
      "Epoch 16/50\n",
      "23/23 - 0s - loss: 1243.2772\n",
      "Epoch 17/50\n",
      "23/23 - 0s - loss: 1220.9017\n",
      "Epoch 18/50\n",
      "23/23 - 0s - loss: 1198.5007\n",
      "Epoch 19/50\n",
      "23/23 - 0s - loss: 1175.2823\n",
      "Epoch 20/50\n",
      "23/23 - 0s - loss: 1152.4353\n",
      "Epoch 21/50\n",
      "23/23 - 0s - loss: 1128.8204\n",
      "Epoch 22/50\n",
      "23/23 - 0s - loss: 1104.9330\n",
      "Epoch 23/50\n",
      "23/23 - 0s - loss: 1081.2762\n",
      "Epoch 24/50\n",
      "23/23 - 0s - loss: 1056.9642\n",
      "Epoch 25/50\n",
      "23/23 - 0s - loss: 1032.5775\n",
      "Epoch 26/50\n",
      "23/23 - 0s - loss: 1008.5269\n",
      "Epoch 27/50\n",
      "23/23 - 0s - loss: 983.9565\n",
      "Epoch 28/50\n",
      "23/23 - 0s - loss: 959.2178\n",
      "Epoch 29/50\n",
      "23/23 - 0s - loss: 934.8641\n",
      "Epoch 30/50\n",
      "23/23 - 0s - loss: 910.5489\n",
      "Epoch 31/50\n",
      "23/23 - 0s - loss: 886.0885\n",
      "Epoch 32/50\n",
      "23/23 - 0s - loss: 862.0491\n",
      "Epoch 33/50\n",
      "23/23 - 0s - loss: 838.3038\n",
      "Epoch 34/50\n",
      "23/23 - 0s - loss: 814.6672\n",
      "Epoch 35/50\n",
      "23/23 - 0s - loss: 791.2348\n",
      "Epoch 36/50\n",
      "23/23 - 0s - loss: 768.2966\n",
      "Epoch 37/50\n",
      "23/23 - 0s - loss: 745.7380\n",
      "Epoch 38/50\n",
      "23/23 - 0s - loss: 723.4998\n",
      "Epoch 39/50\n",
      "23/23 - 0s - loss: 701.7083\n",
      "Epoch 40/50\n",
      "23/23 - 0s - loss: 680.1469\n",
      "Epoch 41/50\n",
      "23/23 - 0s - loss: 659.2417\n",
      "Epoch 42/50\n",
      "23/23 - 0s - loss: 638.3978\n",
      "Epoch 43/50\n",
      "23/23 - 0s - loss: 618.5892\n",
      "Epoch 44/50\n",
      "23/23 - 0s - loss: 598.6367\n",
      "Epoch 45/50\n",
      "23/23 - 0s - loss: 579.3626\n",
      "Epoch 46/50\n",
      "23/23 - 0s - loss: 560.0408\n",
      "Epoch 47/50\n",
      "23/23 - 0s - loss: 540.7292\n",
      "Epoch 48/50\n",
      "23/23 - 0s - loss: 521.9518\n",
      "Epoch 49/50\n",
      "23/23 - 0s - loss: 502.8533\n",
      "Epoch 50/50\n",
      "23/23 - 0s - loss: 484.3671\n"
     ]
    },
    {
     "data": {
      "text/plain": [
       "<tensorflow.python.keras.callbacks.History at 0x7fbe6d23d700>"
      ]
     },
     "execution_count": 34,
     "metadata": {},
     "output_type": "execute_result"
    }
   ],
   "source": [
    "epochs = 50\n",
    "model.fit(X_train, y_train, epochs=epochs, verbose=2)"
   ]
  },
  {
   "cell_type": "code",
   "execution_count": 35,
   "metadata": {},
   "outputs": [
    {
     "name": "stdout",
     "output_type": "stream",
     "text": [
      "10/10 [==============================] - 0s 748us/step - loss: 481.1778\n"
     ]
    },
    {
     "data": {
      "text/plain": [
       "481.17779541015625"
      ]
     },
     "execution_count": 35,
     "metadata": {},
     "output_type": "execute_result"
    }
   ],
   "source": [
    "loss_val = model.evaluate(X_test, y_test)\n",
    "y_pred = model.predict(X_test)\n",
    "loss_val"
   ]
  },
  {
   "cell_type": "code",
   "execution_count": 36,
   "metadata": {},
   "outputs": [
    {
     "name": "stdout",
     "output_type": "stream",
     "text": [
      "481.1777529435002 0.0\n"
     ]
    }
   ],
   "source": [
    "mean_square_error = mean_squared_error(y_test, y_pred)\n",
    "mean = np.mean(mean_square_error)\n",
    "standard_deviation = np.std(mean_square_error)\n",
    "print(mean, standard_deviation)"
   ]
  },
  {
   "cell_type": "code",
   "execution_count": 37,
   "metadata": {},
   "outputs": [
    {
     "name": "stdout",
     "output_type": "stream",
     "text": [
      "MSE 1: 168.17578125\n",
      "MSE 2: 118.9006118774414\n",
      "MSE 3: 93.3008804321289\n",
      "MSE 4: 75.4786148071289\n",
      "MSE 5: 75.84205627441406\n",
      "MSE 6: 67.72484588623047\n",
      "MSE 7: 58.50606155395508\n",
      "MSE 8: 44.85523986816406\n",
      "MSE 9: 44.466270446777344\n",
      "MSE 10: 40.49458694458008\n",
      "MSE 11: 42.61528778076172\n",
      "MSE 12: 40.77033996582031\n",
      "MSE 13: 38.73941421508789\n",
      "MSE 14: 38.478004455566406\n",
      "MSE 15: 36.36626052856445\n",
      "MSE 16: 38.32765579223633\n",
      "MSE 17: 32.31400680541992\n",
      "MSE 18: 35.49272155761719\n",
      "MSE 19: 35.96452713012695\n",
      "MSE 20: 40.14476776123047\n",
      "MSE 21: 36.94696044921875\n",
      "MSE 22: 37.51953887939453\n",
      "MSE 23: 33.80086898803711\n",
      "MSE 24: 38.45353317260742\n",
      "MSE 25: 38.145328521728516\n",
      "MSE 26: 41.757041931152344\n",
      "MSE 27: 43.27663803100586\n",
      "MSE 28: 33.00722885131836\n",
      "MSE 29: 38.96488571166992\n",
      "MSE 30: 35.37150573730469\n",
      "MSE 31: 31.911657333374023\n",
      "MSE 32: 33.93837356567383\n",
      "MSE 33: 36.48427200317383\n",
      "MSE 34: 37.480255126953125\n",
      "MSE 35: 35.29771041870117\n",
      "MSE 36: 35.900413513183594\n",
      "MSE 37: 35.52431869506836\n",
      "MSE 38: 34.25820541381836\n",
      "MSE 39: 34.46867370605469\n",
      "MSE 40: 36.633094787597656\n",
      "MSE 41: 35.27639389038086\n",
      "MSE 42: 33.400333404541016\n",
      "MSE 43: 36.046539306640625\n",
      "MSE 44: 38.639705657958984\n",
      "MSE 45: 36.0224494934082\n",
      "MSE 46: 36.63753890991211\n",
      "MSE 47: 35.361209869384766\n",
      "MSE 48: 40.15406799316406\n",
      "MSE 49: 34.28417205810547\n",
      "MSE 50: 40.95659637451172\n",
      "Mean: 45.25754881265897\n",
      "Standard Deviation: 23.874605487572076\n"
     ]
    }
   ],
   "source": [
    "total_mean_squared_errors = 50\n",
    "epochs = 50\n",
    "mean_squared_errors = []\n",
    "for i in range(0, total_mean_squared_errors):\n",
    "    X_train, X_test, y_train, y_test = train_test_split(predictors_norm, target, test_size=0.3)\n",
    "    model.fit(X_train, y_train, epochs=epochs, verbose=0)\n",
    "    MSE = model.evaluate(X_test, y_test, verbose=0)\n",
    "    print(\"MSE {}: {}\".format(i+1, MSE))\n",
    "    y_pred = model.predict(X_test)\n",
    "    mean_square_error = mean_squared_error(y_test, y_pred)\n",
    "    mean_squared_errors.append(mean_square_error)\n",
    "\n",
    "mean_squared_errors = np.array(mean_squared_errors)\n",
    "mean = np.mean(mean_squared_errors)\n",
    "standard_deviation = np.std(mean_squared_errors)\n",
    "\n",
    "print(\"Mean: {}\".format(mean))\n",
    "print(\"Standard Deviation: {}\".format(standard_deviation))"
   ]
  },
  {
   "cell_type": "markdown",
   "metadata": {},
   "source": [
    "<h2>Part C<h2>"
   ]
  },
  {
   "cell_type": "markdown",
   "metadata": {},
   "source": [
    " Increase the number of epochs"
   ]
  },
  {
   "cell_type": "code",
   "execution_count": 38,
   "metadata": {},
   "outputs": [],
   "source": [
    "concrete_data_columns = concrete_data.columns\n",
    "predictors_norm = (predictors - predictors.mean()) / predictors.std()\n",
    "n_cols = predictors_norm.shape[1]"
   ]
  },
  {
   "cell_type": "code",
   "execution_count": 39,
   "metadata": {},
   "outputs": [],
   "source": [
    "def regression_model():\n",
    "    model = Sequential()\n",
    "    model.add(Dense(10, activation='relu', input_shape=(n_cols,)))\n",
    "    model.add(Dense(1))\n",
    "    model.compile(optimizer='adam', loss='mean_squared_error')\n",
    "    return model"
   ]
  },
  {
   "cell_type": "code",
   "execution_count": 40,
   "metadata": {},
   "outputs": [],
   "source": [
    "X_train, X_test, y_train, y_test = train_test_split(predictors_norm, target, test_size=0.3)"
   ]
  },
  {
   "cell_type": "code",
   "execution_count": 41,
   "metadata": {},
   "outputs": [],
   "source": [
    "model = regression_model()"
   ]
  },
  {
   "cell_type": "code",
   "execution_count": 42,
   "metadata": {},
   "outputs": [
    {
     "name": "stdout",
     "output_type": "stream",
     "text": [
      "Epoch 1/100\n",
      "23/23 - 0s - loss: 1526.4720\n",
      "Epoch 2/100\n",
      "23/23 - 0s - loss: 1512.2653\n",
      "Epoch 3/100\n",
      "23/23 - 0s - loss: 1497.3250\n",
      "Epoch 4/100\n",
      "23/23 - 0s - loss: 1481.2583\n",
      "Epoch 5/100\n",
      "23/23 - 0s - loss: 1463.6652\n",
      "Epoch 6/100\n",
      "23/23 - 0s - loss: 1444.5818\n",
      "Epoch 7/100\n",
      "23/23 - 0s - loss: 1423.8634\n",
      "Epoch 8/100\n",
      "23/23 - 0s - loss: 1401.6228\n",
      "Epoch 9/100\n",
      "23/23 - 0s - loss: 1377.3876\n",
      "Epoch 10/100\n",
      "23/23 - 0s - loss: 1351.6512\n",
      "Epoch 11/100\n",
      "23/23 - 0s - loss: 1324.3091\n",
      "Epoch 12/100\n",
      "23/23 - 0s - loss: 1295.1431\n",
      "Epoch 13/100\n",
      "23/23 - 0s - loss: 1264.7493\n",
      "Epoch 14/100\n",
      "23/23 - 0s - loss: 1233.1146\n",
      "Epoch 15/100\n",
      "23/23 - 0s - loss: 1200.4603\n",
      "Epoch 16/100\n",
      "23/23 - 0s - loss: 1166.0964\n",
      "Epoch 17/100\n",
      "23/23 - 0s - loss: 1132.1071\n",
      "Epoch 18/100\n",
      "23/23 - 0s - loss: 1096.4424\n",
      "Epoch 19/100\n",
      "23/23 - 0s - loss: 1061.0247\n",
      "Epoch 20/100\n",
      "23/23 - 0s - loss: 1024.8959\n",
      "Epoch 21/100\n",
      "23/23 - 0s - loss: 988.4412\n",
      "Epoch 22/100\n",
      "23/23 - 0s - loss: 952.3135\n",
      "Epoch 23/100\n",
      "23/23 - 0s - loss: 916.2451\n",
      "Epoch 24/100\n",
      "23/23 - 0s - loss: 880.4210\n",
      "Epoch 25/100\n",
      "23/23 - 0s - loss: 845.5949\n",
      "Epoch 26/100\n",
      "23/23 - 0s - loss: 811.5241\n",
      "Epoch 27/100\n",
      "23/23 - 0s - loss: 778.0451\n",
      "Epoch 28/100\n",
      "23/23 - 0s - loss: 745.5867\n",
      "Epoch 29/100\n",
      "23/23 - 0s - loss: 713.8676\n",
      "Epoch 30/100\n",
      "23/23 - 0s - loss: 683.5062\n",
      "Epoch 31/100\n",
      "23/23 - 0s - loss: 654.2177\n",
      "Epoch 32/100\n",
      "23/23 - 0s - loss: 626.2045\n",
      "Epoch 33/100\n",
      "23/23 - 0s - loss: 599.3287\n",
      "Epoch 34/100\n",
      "23/23 - 0s - loss: 573.8992\n",
      "Epoch 35/100\n",
      "23/23 - 0s - loss: 550.0799\n",
      "Epoch 36/100\n",
      "23/23 - 0s - loss: 527.4550\n",
      "Epoch 37/100\n",
      "23/23 - 0s - loss: 506.2400\n",
      "Epoch 38/100\n",
      "23/23 - 0s - loss: 486.1804\n",
      "Epoch 39/100\n",
      "23/23 - 0s - loss: 467.3639\n",
      "Epoch 40/100\n",
      "23/23 - 0s - loss: 449.6836\n",
      "Epoch 41/100\n",
      "23/23 - 0s - loss: 433.2824\n",
      "Epoch 42/100\n",
      "23/23 - 0s - loss: 417.8253\n",
      "Epoch 43/100\n",
      "23/23 - 0s - loss: 403.6366\n",
      "Epoch 44/100\n",
      "23/23 - 0s - loss: 389.8894\n",
      "Epoch 45/100\n",
      "23/23 - 0s - loss: 377.4349\n",
      "Epoch 46/100\n",
      "23/23 - 0s - loss: 365.8862\n",
      "Epoch 47/100\n",
      "23/23 - 0s - loss: 354.5952\n",
      "Epoch 48/100\n",
      "23/23 - 0s - loss: 344.3355\n",
      "Epoch 49/100\n",
      "23/23 - 0s - loss: 334.4567\n",
      "Epoch 50/100\n",
      "23/23 - 0s - loss: 325.0888\n",
      "Epoch 51/100\n",
      "23/23 - 0s - loss: 316.1523\n",
      "Epoch 52/100\n",
      "23/23 - 0s - loss: 307.8023\n",
      "Epoch 53/100\n",
      "23/23 - 0s - loss: 299.6202\n",
      "Epoch 54/100\n",
      "23/23 - 0s - loss: 291.9880\n",
      "Epoch 55/100\n",
      "23/23 - 0s - loss: 284.8349\n",
      "Epoch 56/100\n",
      "23/23 - 0s - loss: 277.8596\n",
      "Epoch 57/100\n",
      "23/23 - 0s - loss: 271.3107\n",
      "Epoch 58/100\n",
      "23/23 - 0s - loss: 264.8217\n",
      "Epoch 59/100\n",
      "23/23 - 0s - loss: 258.8097\n",
      "Epoch 60/100\n",
      "23/23 - 0s - loss: 252.9383\n",
      "Epoch 61/100\n",
      "23/23 - 0s - loss: 247.3108\n",
      "Epoch 62/100\n",
      "23/23 - 0s - loss: 242.0595\n",
      "Epoch 63/100\n",
      "23/23 - 0s - loss: 236.9999\n",
      "Epoch 64/100\n",
      "23/23 - 0s - loss: 232.0448\n",
      "Epoch 65/100\n",
      "23/23 - 0s - loss: 227.3733\n",
      "Epoch 66/100\n",
      "23/23 - 0s - loss: 222.8590\n",
      "Epoch 67/100\n",
      "23/23 - 0s - loss: 218.5729\n",
      "Epoch 68/100\n",
      "23/23 - 0s - loss: 214.3391\n",
      "Epoch 69/100\n",
      "23/23 - 0s - loss: 210.3489\n",
      "Epoch 70/100\n",
      "23/23 - 0s - loss: 206.3944\n",
      "Epoch 71/100\n",
      "23/23 - 0s - loss: 202.7561\n",
      "Epoch 72/100\n",
      "23/23 - 0s - loss: 199.3153\n",
      "Epoch 73/100\n",
      "23/23 - 0s - loss: 195.9462\n",
      "Epoch 74/100\n",
      "23/23 - 0s - loss: 192.7609\n",
      "Epoch 75/100\n",
      "23/23 - 0s - loss: 189.7777\n",
      "Epoch 76/100\n",
      "23/23 - 0s - loss: 186.9341\n",
      "Epoch 77/100\n",
      "23/23 - 0s - loss: 184.3505\n",
      "Epoch 78/100\n",
      "23/23 - 0s - loss: 181.7694\n",
      "Epoch 79/100\n",
      "23/23 - 0s - loss: 179.3087\n",
      "Epoch 80/100\n",
      "23/23 - 0s - loss: 176.9005\n",
      "Epoch 81/100\n",
      "23/23 - 0s - loss: 174.6834\n",
      "Epoch 82/100\n",
      "23/23 - 0s - loss: 172.5772\n",
      "Epoch 83/100\n",
      "23/23 - 0s - loss: 170.4406\n",
      "Epoch 84/100\n",
      "23/23 - 0s - loss: 168.5082\n",
      "Epoch 85/100\n",
      "23/23 - 0s - loss: 166.6107\n",
      "Epoch 86/100\n",
      "23/23 - 0s - loss: 164.8516\n",
      "Epoch 87/100\n",
      "23/23 - 0s - loss: 163.1705\n",
      "Epoch 88/100\n",
      "23/23 - 0s - loss: 161.3928\n",
      "Epoch 89/100\n",
      "23/23 - 0s - loss: 159.8311\n",
      "Epoch 90/100\n",
      "23/23 - 0s - loss: 158.2788\n",
      "Epoch 91/100\n",
      "23/23 - 0s - loss: 156.7794\n",
      "Epoch 92/100\n",
      "23/23 - 0s - loss: 155.3766\n",
      "Epoch 93/100\n",
      "23/23 - 0s - loss: 153.9941\n",
      "Epoch 94/100\n",
      "23/23 - 0s - loss: 152.6267\n",
      "Epoch 95/100\n",
      "23/23 - 0s - loss: 151.3509\n",
      "Epoch 96/100\n",
      "23/23 - 0s - loss: 150.1303\n",
      "Epoch 97/100\n",
      "23/23 - 0s - loss: 148.7914\n",
      "Epoch 98/100\n",
      "23/23 - 0s - loss: 147.6278\n",
      "Epoch 99/100\n",
      "23/23 - 0s - loss: 146.4905\n",
      "Epoch 100/100\n",
      "23/23 - 0s - loss: 145.3958\n"
     ]
    },
    {
     "data": {
      "text/plain": [
       "<tensorflow.python.keras.callbacks.History at 0x7fbe8ae78c10>"
      ]
     },
     "execution_count": 42,
     "metadata": {},
     "output_type": "execute_result"
    }
   ],
   "source": [
    "epochs = 100\n",
    "model.fit(X_train, y_train, epochs=epochs, verbose=2)"
   ]
  },
  {
   "cell_type": "code",
   "execution_count": 43,
   "metadata": {},
   "outputs": [
    {
     "name": "stdout",
     "output_type": "stream",
     "text": [
      "10/10 [==============================] - 0s 643us/step - loss: 166.2167\n"
     ]
    },
    {
     "data": {
      "text/plain": [
       "166.2167205810547"
      ]
     },
     "execution_count": 43,
     "metadata": {},
     "output_type": "execute_result"
    }
   ],
   "source": [
    "loss_val = model.evaluate(X_test, y_test)\n",
    "y_pred = model.predict(X_test)\n",
    "loss_val"
   ]
  },
  {
   "cell_type": "code",
   "execution_count": 44,
   "metadata": {},
   "outputs": [
    {
     "name": "stdout",
     "output_type": "stream",
     "text": [
      "166.21670761360863 0.0\n"
     ]
    }
   ],
   "source": [
    "mean_square_error = mean_squared_error(y_test, y_pred)\n",
    "mean = np.mean(mean_square_error)\n",
    "standard_deviation = np.std(mean_square_error)\n",
    "print(mean, standard_deviation)"
   ]
  },
  {
   "cell_type": "code",
   "execution_count": 45,
   "metadata": {},
   "outputs": [
    {
     "name": "stdout",
     "output_type": "stream",
     "text": [
      "MSE 1: 120.42862701416016\n",
      "MSE 2: 78.69345092773438\n",
      "MSE 3: 72.56462097167969\n",
      "MSE 4: 53.67980194091797\n",
      "MSE 5: 47.577392578125\n",
      "MSE 6: 44.7012825012207\n",
      "MSE 7: 40.76350784301758\n",
      "MSE 8: 43.41270446777344\n",
      "MSE 9: 47.50075149536133\n",
      "MSE 10: 46.180686950683594\n",
      "MSE 11: 42.91257858276367\n",
      "MSE 12: 39.77463150024414\n",
      "MSE 13: 32.62160110473633\n",
      "MSE 14: 40.3835334777832\n",
      "MSE 15: 37.51165771484375\n",
      "MSE 16: 45.31481170654297\n",
      "MSE 17: 35.26511001586914\n",
      "MSE 18: 30.688831329345703\n",
      "MSE 19: 40.841514587402344\n",
      "MSE 20: 35.47633361816406\n",
      "MSE 21: 38.66227722167969\n",
      "MSE 22: 40.778472900390625\n",
      "MSE 23: 32.05469512939453\n",
      "MSE 24: 38.704498291015625\n",
      "MSE 25: 34.775535583496094\n",
      "MSE 26: 38.64827346801758\n",
      "MSE 27: 36.558441162109375\n",
      "MSE 28: 38.75555419921875\n",
      "MSE 29: 39.30754089355469\n",
      "MSE 30: 32.92805480957031\n",
      "MSE 31: 36.22934341430664\n",
      "MSE 32: 36.8720703125\n",
      "MSE 33: 35.36738204956055\n",
      "MSE 34: 40.10856246948242\n",
      "MSE 35: 34.903621673583984\n",
      "MSE 36: 36.015769958496094\n",
      "MSE 37: 37.59944152832031\n",
      "MSE 38: 36.316551208496094\n",
      "MSE 39: 31.621559143066406\n",
      "MSE 40: 38.09303665161133\n",
      "MSE 41: 38.757225036621094\n",
      "MSE 42: 32.23823547363281\n",
      "MSE 43: 42.40460205078125\n",
      "MSE 44: 35.17329406738281\n",
      "MSE 45: 33.21180725097656\n",
      "MSE 46: 36.91889953613281\n",
      "MSE 47: 40.085052490234375\n",
      "MSE 48: 38.24163055419922\n",
      "MSE 49: 35.166622161865234\n",
      "MSE 50: 37.3780632019043\n",
      "Mean: 41.6033895594824\n",
      "Standard Deviation: 14.155936357549988\n"
     ]
    }
   ],
   "source": [
    "total_mean_squared_errors = 50\n",
    "epochs = 50\n",
    "mean_squared_errors = []\n",
    "for i in range(0, total_mean_squared_errors):\n",
    "    X_train, X_test, y_train, y_test = train_test_split(predictors_norm, target, test_size=0.3)\n",
    "    model.fit(X_train, y_train, epochs=epochs, verbose=0)\n",
    "    MSE = model.evaluate(X_test, y_test, verbose=0)\n",
    "    print(\"MSE {}: {}\".format(i+1, MSE))\n",
    "    y_pred = model.predict(X_test)\n",
    "    mean_square_error = mean_squared_error(y_test, y_pred)\n",
    "    mean_squared_errors.append(mean_square_error)\n",
    "\n",
    "mean_squared_errors = np.array(mean_squared_errors)\n",
    "mean = np.mean(mean_squared_errors)\n",
    "standard_deviation = np.std(mean_squared_errors)\n",
    "\n",
    "print(\"Mean: {}\".format(mean))\n",
    "print(\"Standard Deviation: {}\".format(standard_deviation))"
   ]
  },
  {
   "cell_type": "markdown",
   "metadata": {},
   "source": [
    "<h1>Part D<h1>"
   ]
  },
  {
   "cell_type": "markdown",
   "metadata": {},
   "source": [
    " Increase the number of hidden layers"
   ]
  },
  {
   "cell_type": "code",
   "execution_count": 54,
   "metadata": {},
   "outputs": [],
   "source": [
    "concrete_data_columns = concrete_data.columns\n",
    "predictors_norm = (predictors - predictors.mean()) / predictors.std()\n",
    "n_cols = predictors_norm.shape[1]"
   ]
  },
  {
   "cell_type": "code",
   "execution_count": 55,
   "metadata": {},
   "outputs": [],
   "source": [
    "def regression_model():\n",
    "    model = Sequential()\n",
    "    model.add(Dense(10, activation='relu', input_shape=(n_cols,)))\n",
    "    model.add(Dense(10, activation='relu'))\n",
    "    model.add(Dense(1))\n",
    "    model.compile(optimizer='adam', loss='mean_squared_error')\n",
    "    return model"
   ]
  },
  {
   "cell_type": "code",
   "execution_count": 56,
   "metadata": {},
   "outputs": [],
   "source": [
    "X_train, X_test, y_train, y_test = train_test_split(predictors_norm, target, test_size=0.3)"
   ]
  },
  {
   "cell_type": "code",
   "execution_count": 57,
   "metadata": {},
   "outputs": [],
   "source": [
    "model = regression_model()"
   ]
  },
  {
   "cell_type": "code",
   "execution_count": 58,
   "metadata": {},
   "outputs": [
    {
     "name": "stdout",
     "output_type": "stream",
     "text": [
      "Epoch 1/50\n",
      "23/23 - 0s - loss: 1550.5339\n",
      "Epoch 2/50\n",
      "23/23 - 0s - loss: 1528.2917\n",
      "Epoch 3/50\n",
      "23/23 - 0s - loss: 1505.6044\n",
      "Epoch 4/50\n",
      "23/23 - 0s - loss: 1478.9766\n",
      "Epoch 5/50\n",
      "23/23 - 0s - loss: 1445.5042\n",
      "Epoch 6/50\n",
      "23/23 - 0s - loss: 1402.9069\n",
      "Epoch 7/50\n",
      "23/23 - 0s - loss: 1350.0725\n",
      "Epoch 8/50\n",
      "23/23 - 0s - loss: 1283.5016\n",
      "Epoch 9/50\n",
      "23/23 - 0s - loss: 1203.6495\n",
      "Epoch 10/50\n",
      "23/23 - 0s - loss: 1108.4501\n",
      "Epoch 11/50\n",
      "23/23 - 0s - loss: 999.5641\n",
      "Epoch 12/50\n",
      "23/23 - 0s - loss: 882.5904\n",
      "Epoch 13/50\n",
      "23/23 - 0s - loss: 760.0695\n",
      "Epoch 14/50\n",
      "23/23 - 0s - loss: 643.3952\n",
      "Epoch 15/50\n",
      "23/23 - 0s - loss: 534.4036\n",
      "Epoch 16/50\n",
      "23/23 - 0s - loss: 443.3888\n",
      "Epoch 17/50\n",
      "23/23 - 0s - loss: 370.5492\n",
      "Epoch 18/50\n",
      "23/23 - 0s - loss: 316.4507\n",
      "Epoch 19/50\n",
      "23/23 - 0s - loss: 278.1104\n",
      "Epoch 20/50\n",
      "23/23 - 0s - loss: 252.2924\n",
      "Epoch 21/50\n",
      "23/23 - 0s - loss: 235.2729\n",
      "Epoch 22/50\n",
      "23/23 - 0s - loss: 222.6787\n",
      "Epoch 23/50\n",
      "23/23 - 0s - loss: 214.0567\n",
      "Epoch 24/50\n",
      "23/23 - 0s - loss: 206.6843\n",
      "Epoch 25/50\n",
      "23/23 - 0s - loss: 201.2992\n",
      "Epoch 26/50\n",
      "23/23 - 0s - loss: 196.3321\n",
      "Epoch 27/50\n",
      "23/23 - 0s - loss: 192.1543\n",
      "Epoch 28/50\n",
      "23/23 - 0s - loss: 188.4551\n",
      "Epoch 29/50\n",
      "23/23 - 0s - loss: 185.2984\n",
      "Epoch 30/50\n",
      "23/23 - 0s - loss: 182.3875\n",
      "Epoch 31/50\n",
      "23/23 - 0s - loss: 179.5271\n",
      "Epoch 32/50\n",
      "23/23 - 0s - loss: 177.0739\n",
      "Epoch 33/50\n",
      "23/23 - 0s - loss: 174.4972\n",
      "Epoch 34/50\n",
      "23/23 - 0s - loss: 172.2944\n",
      "Epoch 35/50\n",
      "23/23 - 0s - loss: 170.1010\n",
      "Epoch 36/50\n",
      "23/23 - 0s - loss: 167.8438\n",
      "Epoch 37/50\n",
      "23/23 - 0s - loss: 165.9783\n",
      "Epoch 38/50\n",
      "23/23 - 0s - loss: 164.1785\n",
      "Epoch 39/50\n",
      "23/23 - 0s - loss: 162.2459\n",
      "Epoch 40/50\n",
      "23/23 - 0s - loss: 160.9688\n",
      "Epoch 41/50\n",
      "23/23 - 0s - loss: 159.0349\n",
      "Epoch 42/50\n",
      "23/23 - 0s - loss: 157.4758\n",
      "Epoch 43/50\n",
      "23/23 - 0s - loss: 156.2500\n",
      "Epoch 44/50\n",
      "23/23 - 0s - loss: 154.8111\n",
      "Epoch 45/50\n",
      "23/23 - 0s - loss: 153.6130\n",
      "Epoch 46/50\n",
      "23/23 - 0s - loss: 152.5362\n",
      "Epoch 47/50\n",
      "23/23 - 0s - loss: 151.2323\n",
      "Epoch 48/50\n",
      "23/23 - 0s - loss: 150.1836\n",
      "Epoch 49/50\n",
      "23/23 - 0s - loss: 149.2504\n",
      "Epoch 50/50\n",
      "23/23 - 0s - loss: 148.3055\n"
     ]
    },
    {
     "data": {
      "text/plain": [
       "<tensorflow.python.keras.callbacks.History at 0x7fbe8a699370>"
      ]
     },
     "execution_count": 58,
     "metadata": {},
     "output_type": "execute_result"
    }
   ],
   "source": [
    "epochs = 50\n",
    "model.fit(X_train, y_train, epochs=epochs, verbose=2)"
   ]
  },
  {
   "cell_type": "code",
   "execution_count": 59,
   "metadata": {},
   "outputs": [
    {
     "name": "stdout",
     "output_type": "stream",
     "text": [
      "10/10 [==============================] - 0s 576us/step - loss: 145.0863\n"
     ]
    },
    {
     "data": {
      "text/plain": [
       "145.0863494873047"
      ]
     },
     "execution_count": 59,
     "metadata": {},
     "output_type": "execute_result"
    }
   ],
   "source": [
    "loss_val = model.evaluate(X_test, y_test)\n",
    "y_pred = model.predict(X_test)\n",
    "loss_val"
   ]
  },
  {
   "cell_type": "code",
   "execution_count": 60,
   "metadata": {},
   "outputs": [
    {
     "name": "stdout",
     "output_type": "stream",
     "text": [
      "145.0863510660305 0.0\n"
     ]
    }
   ],
   "source": [
    "mean_square_error = mean_squared_error(y_test, y_pred)\n",
    "mean = np.mean(mean_square_error)\n",
    "standard_deviation = np.std(mean_square_error)\n",
    "print(mean, standard_deviation)"
   ]
  },
  {
   "cell_type": "code",
   "execution_count": 61,
   "metadata": {},
   "outputs": [
    {
     "name": "stdout",
     "output_type": "stream",
     "text": [
      "MSE 1: 111.49759674072266\n",
      "MSE 2: 90.80750274658203\n",
      "MSE 3: 63.76539611816406\n",
      "MSE 4: 56.91093826293945\n",
      "MSE 5: 51.59543991088867\n",
      "MSE 6: 39.341087341308594\n",
      "MSE 7: 40.196128845214844\n",
      "MSE 8: 45.63582229614258\n",
      "MSE 9: 37.564430236816406\n",
      "MSE 10: 39.723812103271484\n",
      "MSE 11: 37.27601623535156\n",
      "MSE 12: 32.783748626708984\n",
      "MSE 13: 40.10444641113281\n",
      "MSE 14: 29.69600486755371\n",
      "MSE 15: 34.46128463745117\n",
      "MSE 16: 31.676984786987305\n",
      "MSE 17: 29.481903076171875\n",
      "MSE 18: 35.12361526489258\n",
      "MSE 19: 32.041927337646484\n",
      "MSE 20: 32.350921630859375\n",
      "MSE 21: 30.468591690063477\n",
      "MSE 22: 29.898231506347656\n",
      "MSE 23: 33.418296813964844\n",
      "MSE 24: 29.0019588470459\n",
      "MSE 25: 29.66006851196289\n",
      "MSE 26: 27.702316284179688\n",
      "MSE 27: 30.288898468017578\n",
      "MSE 28: 32.36313247680664\n",
      "MSE 29: 34.490718841552734\n",
      "MSE 30: 32.417110443115234\n",
      "MSE 31: 28.17176055908203\n",
      "MSE 32: 28.610013961791992\n",
      "MSE 33: 33.9647216796875\n",
      "MSE 34: 35.02788543701172\n",
      "MSE 35: 24.529006958007812\n",
      "MSE 36: 28.573328018188477\n",
      "MSE 37: 32.700408935546875\n",
      "MSE 38: 33.74803924560547\n",
      "MSE 39: 30.68731689453125\n",
      "MSE 40: 29.792531967163086\n",
      "MSE 41: 24.54907989501953\n",
      "MSE 42: 29.558448791503906\n",
      "MSE 43: 27.097434997558594\n",
      "MSE 44: 31.406375885009766\n",
      "MSE 45: 29.65349006652832\n",
      "MSE 46: 28.624692916870117\n",
      "MSE 47: 26.44390106201172\n",
      "MSE 48: 28.467851638793945\n",
      "MSE 49: 25.288551330566406\n",
      "MSE 50: 26.414091110229492\n",
      "Mean: 36.101064299211764\n",
      "Standard Deviation: 15.401724061517317\n"
     ]
    }
   ],
   "source": [
    "total_mean_squared_errors = 50\n",
    "epochs = 50\n",
    "mean_squared_errors = []\n",
    "for i in range(0, total_mean_squared_errors):\n",
    "    X_train, X_test, y_train, y_test = train_test_split(predictors_norm, target, test_size=0.3)\n",
    "    model.fit(X_train, y_train, epochs=epochs, verbose=0)\n",
    "    MSE = model.evaluate(X_test, y_test, verbose=0)\n",
    "    print(\"MSE {}: {}\".format(i+1, MSE))\n",
    "    y_pred = model.predict(X_test)\n",
    "    mean_square_error = mean_squared_error(y_test, y_pred)\n",
    "    mean_squared_errors.append(mean_square_error)\n",
    "\n",
    "mean_squared_errors = np.array(mean_squared_errors)\n",
    "mean = np.mean(mean_squared_errors)\n",
    "standard_deviation = np.std(mean_squared_errors)\n",
    "\n",
    "print(\"Mean: {}\".format(mean))\n",
    "print(\"Standard Deviation: {}\".format(standard_deviation))"
   ]
  },
  {
   "cell_type": "code",
   "execution_count": null,
   "metadata": {},
   "outputs": [],
   "source": []
  }
 ],
 "metadata": {
  "kernelspec": {
   "display_name": "Python 3",
   "language": "python",
   "name": "python3"
  },
  "language_info": {
   "codemirror_mode": {
    "name": "ipython",
    "version": 3
   },
   "file_extension": ".py",
   "mimetype": "text/x-python",
   "name": "python",
   "nbconvert_exporter": "python",
   "pygments_lexer": "ipython3",
   "version": "3.8.3"
  }
 },
 "nbformat": 4,
 "nbformat_minor": 4
}
